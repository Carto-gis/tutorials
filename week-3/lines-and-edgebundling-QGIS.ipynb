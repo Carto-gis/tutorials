{
 "cells": [
  {
   "cell_type": "markdown",
   "id": "d16bad94-8358-4bbd-b464-79a2869beedd",
   "metadata": {},
   "source": [
    "# Visualizing OD mobilities & edgebundling in QGIS"
   ]
  },
  {
   "cell_type": "markdown",
   "id": "60dac975-b31d-4491-aae6-c97035485ab0",
   "metadata": {},
   "source": [
    "## Intro"
   ]
  },
  {
   "cell_type": "markdown",
   "id": "e2e59337-6c4b-44aa-8fc7-dc7c1eb971d8",
   "metadata": {},
   "source": [
    "Data showing spatial relations between places is common – in fact, we visualized flight connections between airports during week 2 and plotted mobilities between Flickr users' homecountries and protected areas as chord diagrams in non-carto-vis-Python.ipynb. Origin and destination (OD) are the minimum locations is the minimum information needed to draw a trajectory.\n",
    "\n",
    "Working with big (or even small) OD line data can overcrowd a static map very quickly. For example, a naïve \"hairball\" visualization ([Poorthuis, 2018](https://doi.org/10.22224/gistbok/2018.3.5)) of this practical's data without any styling looks like this:"
   ]
  },
  {
   "cell_type": "markdown",
   "id": "9aa53284-a4a3-45b9-93d2-8c08983ac293",
   "metadata": {},
   "source": [
    "![Hairball visualization of lines](Figures/Practical_3_edgebundling_hairball.png)"
   ]
  },
  {
   "cell_type": "markdown",
   "id": "43e45f8c-2de2-4c30-a422-92855e72656a",
   "metadata": {},
   "source": [
    "Our example data only contains 472 mobilities, heading to one of three regions in Germany. A map of even this simple data above tells us very little of those mobility dynamics. Which of the three is the most popular? Where do the mobilities originate from?\n",
    "\n",
    "We've seen in previous tutorials how finetuning the symbology by reducing linewidth, adding transparency and choosing a more pleasant color scheme improves the readability of such mobility maps. However, we can do more.\n",
    "\n",
    "OD data capture simple, abstracted mobilities (e.g., city bike trips between stations). In these cases, it's beneficial to show not just which places are connected but the magnitude of mobilities."
   ]
  },
  {
   "cell_type": "markdown",
   "id": "cf468ce5-8b91-4ff8-a308-7831d0fa0e30",
   "metadata": {},
   "source": [
    "## Prerequisites"
   ]
  },
  {
   "cell_type": "markdown",
   "id": "985557c5-28c3-4f59-a18a-269a839304d1",
   "metadata": {},
   "source": [
    "### Plugin\n",
    "- [Edgebundling plugin](https://github.com/ait-energy/qgis-edge-bundling/tree/master) by Anita Graser. \n",
    "This plugin **is not available** in the public plugin repository. Instead, follow the instructions below to install it:"
   ]
  },
  {
   "cell_type": "markdown",
   "id": "fce5b6a3-d9c8-4b2c-9969-845f9e2410b8",
   "metadata": {},
   "source": [
    "<div style=\"background-color: #ccfbff; padding: 10px; border-left: 5px solid #41e4f0; margin-bottom: 10px;\">\n",
    "    \n",
    "1. Download *processing_edgebundling.zip* from this folder or following this **link**.\n",
    "    \n",
    "2. Open the plugin installation window (*Plugins > Manage and Install plugins*)\n",
    "    \n",
    "3. Go to *Install from zip*, select the zip file you just downloaded and install the plugin. \n",
    "    \n",
    "4. The function *Force-directed edge bundling* has been added to the *Processing Toolbox*.\n",
    "</div>"
   ]
  },
  {
   "cell_type": "markdown",
   "id": "92a6ac8e-2d65-456d-a16c-e3c7c95d981c",
   "metadata": {},
   "source": [
    "### Data\n",
    "We'll work with data that describes [student mobilities in the European Union's Erasmus](https://data.europa.eu/data/datasets/erasmus-mobility-statistics-2014-2020?locale=en) exhange program at the level of the statistical NUTS2 regions. The full dataset has been processed by Tuomas Väisänen and Oula Inkeröinen as part of [Mobi-Twin](https://www.helsinki.fi/en/researchgroups/digital-geography-lab/projects/mobi-twin) project at the [Digital Geography Lab](https://www.helsinki.fi/en/researchgroups/digital-geography-lab/), University of Helsinki.\n",
    "\n",
    "- Download the data here **LINK HERE**"
   ]
  },
  {
   "cell_type": "markdown",
   "id": "4d438c03-041b-45f0-b0d4-1278bbc4023b",
   "metadata": {},
   "source": [
    "### QGIS files\n",
    "As always, there are several style files and a QGIS processing model file that runs the whole processing chain.\n",
    "\n",
    "- Download the zipped QGIS-files for week here **LINK HERE**"
   ]
  },
  {
   "cell_type": "markdown",
   "id": "78e49b43-2bc1-454d-b366-ab468570ca58",
   "metadata": {},
   "source": [
    "## Graduated line map"
   ]
  },
  {
   "cell_type": "markdown",
   "id": "dcfa66b0-8118-4819-bbd3-239082b83842",
   "metadata": {},
   "source": [
    "A type of graduated symbol map, we can simply exaggerate"
   ]
  },
  {
   "cell_type": "markdown",
   "id": "932b79c7-11c8-45ff-8936-a5444f3ef691",
   "metadata": {},
   "source": []
  },
  {
   "cell_type": "markdown",
   "id": "d88c652c-19f4-4d33-96f4-5baff315637e",
   "metadata": {},
   "source": [
    "## Edgebundling\n",
    "Edgebundling is a clustering technique for line features (see Graser, 2019). It can be used to lessen visual clutter in linemaps."
   ]
  },
  {
   "cell_type": "markdown",
   "id": "06737030-d3a1-439e-887f-c67d9757d5fa",
   "metadata": {},
   "source": [
    "We'll be using a plugin that implements force-directed edgebundling for QGIS. "
   ]
  },
  {
   "cell_type": "markdown",
   "id": "aeef1c0c-cb2e-4f88-9250-ac31d4f0e5c1",
   "metadata": {},
   "source": [
    "Try running the tool on **the data** (replace with actual layer name).\n",
    "\n",
    "- `Initial step size` \\[map units\\]: \n",
    "- `Compability` \\[0–1\\]: \n",
    "- `Cycles` & `iterations` \\[>0\\]: higher values will result in better outcomes at the expense of processing time. You may keep the defaults or reduce them a bit.\n",
    "\n",
    "Of these, `initial step size` will be especially influential for the outlook of the map. \n",
    "\n",
    "Below is our data processed with step sizes 1000, 2000, 5000 and 10,000. Notice how the larger values will cause larger distortions and larger bundles whereas the smaller values will produce a more conservative outcome."
   ]
  },
  {
   "cell_type": "markdown",
   "id": "e8479b60-91b0-402f-bf4b-536ee3b6444a",
   "metadata": {},
   "source": [
    "<div style=\"background-color: #8dfcbf; padding: 10px; border-left: 5px solid #11f276; margin-bottom: 10px;\">\n",
    "\n",
    "These examples use the style: **bundled_edges_thin.qml**\n",
    "    \n",
    "</div>"
   ]
  },
  {
   "cell_type": "markdown",
   "id": "d288f294-7e31-4d5b-b4b0-0e313939cacc",
   "metadata": {},
   "source": [
    "<img src=\"Figures/Practical_3_edgebundling_starting_step_comparison.png\" width=1000 height=1000 />"
   ]
  },
  {
   "cell_type": "markdown",
   "id": "6e9c27de-2c35-4d78-8616-80d573cce642",
   "metadata": {},
   "source": [
    "- Exploring visualizations techniques – exaggerating linewidth, high transparency; how do these affect the interpretation."
   ]
  },
  {
   "cell_type": "markdown",
   "id": "a1868d27-c1f1-4d9c-ae83-f99b57448873",
   "metadata": {},
   "source": [
    "<img src=\"Figures/Practical_3_edgebundling_exaggerated_linewidth.png\" width=800 height=600  />"
   ]
  },
  {
   "cell_type": "markdown",
   "id": "3bac0ae3-7f8f-4cb3-8d89-69a0e75c2482",
   "metadata": {},
   "source": [
    "- Finalizing a more stylish map (darker background? Proper labelling?) TODO"
   ]
  },
  {
   "cell_type": "markdown",
   "id": "12780961-5735-4513-a137-6f38ec975be0",
   "metadata": {},
   "source": [
    "### Discussion points\n",
    "TODO"
   ]
  },
  {
   "cell_type": "markdown",
   "id": "e4d3955f-16dd-4466-bc0c-a524b25b226a",
   "metadata": {},
   "source": [
    "<div style=\"background-color: #ccfbff; padding: 10px; border-left: 5px solid #41e4f0; margin-bottom: 10px;\">\n",
    "    \n",
    "1. Navigate to *Plugins -> Manage and install plugins*...\n",
    "\n",
    "2. Type *quickosm* into the search bar and install the plugin. \n",
    "\n",
    "3. The plugin is now installed under *Vector* drop-down menu.\n",
    "</div>"
   ]
  },
  {
   "cell_type": "markdown",
   "id": "8636414b-80ec-445c-87e3-1c70774409fe",
   "metadata": {},
   "source": [
    "<img src=\"Figures/Practical_3_edgebundling_DRAFT.png\" width=900 height=600 />"
   ]
  },
  {
   "cell_type": "markdown",
   "id": "86e35fe9-9045-47c4-9bcd-cb569b2e5b5b",
   "metadata": {},
   "source": [
    "Graser, A., Schmidt, J., Roth, F., & Brändle, N. (2019). Untangling origin-destination flows in geographic information systems. Information Visualization, 18(1), 153–172. https://doi.org/10.1177/1473871617738122\n",
    "\n",
    "Poorthius, A. (2018). Big Data Visualization. Geographic Information Science & Technology Body of Knowledge, 2018(Q3). https://doi.org/10.22224/gistbok/2018.3.5"
   ]
  }
 ],
 "metadata": {
  "kernelspec": {
   "display_name": "Python 3 (ipykernel)",
   "language": "python",
   "name": "python3"
  },
  "language_info": {
   "codemirror_mode": {
    "name": "ipython",
    "version": 3
   },
   "file_extension": ".py",
   "mimetype": "text/x-python",
   "name": "python",
   "nbconvert_exporter": "python",
   "pygments_lexer": "ipython3",
   "version": "3.10.6"
  }
 },
 "nbformat": 4,
 "nbformat_minor": 5
}
