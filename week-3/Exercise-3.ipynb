{
 "cells": [
  {
   "cell_type": "markdown",
   "id": "162d5778-0a98-4c87-be69-73709b3e2d6e",
   "metadata": {},
   "source": [
    "# Exercise 3\n",
    "\n",
    "**Part 1: Weekly reflection** (2 points)\n",
    "\n",
    "Write a short reflection of what you learned from this week's lecture and discussion and how you are going affect your final project work. How will you take your learnings from this week into consideration in your final work? \n",
    "\n",
    "\n",
    "**Part 2: Think Beyond Maps** (2 points)\n",
    "\n",
    "This week we saw that maps are not the only way to visualize geographical data. Can you think of other non-cartographic methods to represent geographical information? Consider how these alternatives might offer unique insights compared to traditional maps. \n",
    "\n",
    "Come up with an example different from those discussed in the tutorial: Identify a type of data that you would visualize without using a map. Describe how you would visualize this data, detailing the advantages of your chosen approach. Consider whether your method is more effective than a map in conveying the message. Write approximately half a page exploring this idea, being specific with your data and possibly selecting a real case for your discussion. You do not need to create a visualization but you are welcome to do so. \n",
    "\n",
    "**Part 3: A hexbin map of Big data** (6 points)\n",
    "\n",
    "Use internet speed data from Ookla, first quarter of 2022, and visualize one of the columns you find interesting (average download speed, upload speed, latency etc.). Use a static Hexbin map for visualization and map the average value of the column in the hexagons. Feel free to be creative and also use other methods to visualize your data. You can try other vsiulization approaches if you can justify your choice. \n",
    "\n",
    "Data can be downloaded from Ookla in parquet format using the following link:\n",
    "\n",
    "`https://ookla-open-data.s3.us-west-2.amazonaws.com/parquet/performance/type=mobile/year=2022/quarter=1/2022-01-01_performance_mobile_tiles.parquet`\n",
    "\n",
    "The data becomes very large in CSV format. However, if you need it in CSV format (for example for easier handling in QGIS), you can convert the data to CSV using Pandas library:\n",
    "\n",
    "```python\n",
    "import pandas as pd\n",
    "\n",
    "# Load your .parquet file\n",
    "df = pd.read_parquet(\"https://ookla-open-data.s3.us-west-2.amazonaws.com/parquet/performance/type=mobile/year=2022/quarter=1/2022-01-01_performance_mobile_tiles.parquet\")\n",
    "\n",
    "# Save it as a CSV\n",
    "df.to_csv('2022-01-01_performance_mobile_tiles.csv', index=False)\n",
    "```\n",
    "\n",
    "Alternatively, you can download the CSV version of data from [here](https://filesender.funet.fi/?s=download&token=2ad78114-c856-4013-8bd9-a2e2e727a4b1).\n",
    "\n",
    "*You can choose the **extent** of your map* (e.g., Global, Europe). Specially if you are doing this in QGIS, working with the full data can be heavy so you may want to work on a smaller area. \n",
    "\n",
    "When making your map, pay attention to things we have learned so far. As usual, the aim is to make a map that is **informative**, **correct**, and **visually pleasing**. \n",
    "\n",
    "<br>\n",
    "\n",
    "> **Hexbin map in QGIS:**\n",
    ">\n",
    "> This week, we learned in the tutorials how to create hexbin maps in Python. If you want to create this kind of map using QGIS, a library called MMQGIS can help you generate the hexagons. For a detailed guide, you can check this page: [Using QGIS to Create a Hexbin Map](https://www.geographyrealm.com/using-qgis-create-hexbin-map-gisp-registrations/).\n"
   ]
  },
  {
   "cell_type": "markdown",
   "id": "d37c57ba-20b6-4cad-b8fd-99d3a5f0eea0",
   "metadata": {},
   "source": []
  }
 ],
 "metadata": {
  "kernelspec": {
   "display_name": "Python 3 (ipykernel)",
   "language": "python",
   "name": "python3"
  },
  "language_info": {
   "codemirror_mode": {
    "name": "ipython",
    "version": 3
   },
   "file_extension": ".py",
   "mimetype": "text/x-python",
   "name": "python",
   "nbconvert_exporter": "python",
   "pygments_lexer": "ipython3",
   "version": "3.11.7"
  }
 },
 "nbformat": 4,
 "nbformat_minor": 5
}
