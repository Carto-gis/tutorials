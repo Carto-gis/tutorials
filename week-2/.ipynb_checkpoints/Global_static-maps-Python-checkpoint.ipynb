{
 "cells": [
  {
   "cell_type": "markdown",
   "id": "70230fda-2548-45d9-8bdd-f9c0700cf634",
   "metadata": {},
   "source": [
    "# Global static map with Cartopy\n",
    "In this tutorial we will create a global map showing the connections between major airports around the world. Among other libraries we use in this tutorial, we will work with Cartopy to visualize our geospatial data. [Cartopy](https://scitools.org.uk/cartopy/docs/latest/) is a Python library designed for cartography and geographic data processing. It's built on top of Matplotlib and provides a powerful interface for creating maps and visualizing geospatial data. With Cartopy, you can easily manipulate and project geographic datasets onto different map projections, draw maps for different regions of the world, and overlay data points, lines, and polygons. Whether you're working on complex geospatial analysis, creating detailed maps for a presentation, or just exploring the world's geography, Cartopy offers good tools to bring your geographic data to life. "
   ]
  },
  {
   "cell_type": "code",
   "execution_count": null,
   "id": "3f21a092-3f0f-41cd-913d-0c6e2bbcbff2",
   "metadata": {},
   "outputs": [],
   "source": [
    "from IPython.display import IFrame\n",
    "documentation = IFrame(src='https://scitools.org.uk/cartopy/docs/latest/#', width=1000, height=400)\n",
    "display(documentation)"
   ]
  },
  {
   "cell_type": "markdown",
   "id": "43cbe975-a994-4652-8b35-362204cd90a8",
   "metadata": {},
   "source": [
    "### Data\n",
    "In this tutorial we will work with the airports data from [Openflights.org](https://openflights.org/). This includes a rich database of airports around the world as well as information such as the geographical locations and global connections."
   ]
  },
  {
   "cell_type": "markdown",
   "id": "d38bff76-9ae0-4dd0-9c8d-e6ca325a7a2d",
   "metadata": {},
   "source": [
    "### Let's get started!\n",
    "\n",
    "In this course we will use the [pathlib](https://docs.python.org/3/library/pathlib.html) library to manage our paths.  This library provides an abstract layer on top of the actual operating system file paths that is consistent across computers. A ´pathlib.Path()´ object can be initiated with a file path (as a str), when created without an argument, it refers to the directory of the script or notebook file. For review of how to use pathlib, please refer to the [AutoGIS course webpages](https://autogis-site.readthedocs.io/en/latest/lessons/lesson-2/managing-file-paths.html)."
   ]
  },
  {
   "cell_type": "code",
   "execution_count": null,
   "id": "e72b8bf8-5a18-412d-bde3-242867502bcb",
   "metadata": {},
   "outputs": [],
   "source": [
    "import pathlib\n",
    "NOTEBOOK_PATH = pathlib.Path().resolve()\n",
    "DATA_DIRECTORY = NOTEBOOK_PATH / \"data\""
   ]
  },
  {
   "cell_type": "code",
   "execution_count": null,
   "id": "ff966321-f6c8-4fdb-b8bf-3f02f0d1572b",
   "metadata": {},
   "outputs": [],
   "source": [
    "import pandas as pd\n",
    "from shapely.geometry import Point\n",
    "import geopandas as gpd\n",
    "import cartopy.crs as ccrs\n",
    "import matplotlib.pyplot as plt\n",
    "from matplotlib.lines import Line2D"
   ]
  },
  {
   "cell_type": "code",
   "execution_count": null,
   "id": "3865a44e-8682-4582-9140-b322669adc2b",
   "metadata": {},
   "outputs": [],
   "source": [
    "airports = pd.read_csv(DATA_DIRECTORY / \"airports.dat\", delimiter=',', \n",
    "                       names=['id', 'name', 'city', 'country', 'iata', \n",
    "                              'icao', 'lat', 'long', 'altitude', 'timezone',\n",
    "                              'dst', 'tz', 'type', 'source'])"
   ]
  },
  {
   "cell_type": "code",
   "execution_count": null,
   "id": "30408a34-83f1-4f36-92da-24dea6f364cc",
   "metadata": {},
   "outputs": [],
   "source": [
    "airports.head()"
   ]
  },
  {
   "cell_type": "code",
   "execution_count": null,
   "id": "bd15e7fb-1c27-4461-922a-2ce46a029f65",
   "metadata": {},
   "outputs": [],
   "source": [
    "# Create Point geometries from airport longitude and latitude\n",
    "airport_geometry = [Point(xy) for xy in zip(airports['long'], \n",
    "                                            airports['lat'])]\n",
    "\n",
    "# Create a GeoDataFrame from the airports data\n",
    "airport_geodata = gpd.GeoDataFrame(airports, \n",
    "                                   crs=\"EPSG:4326\", \n",
    "                                   geometry=airport_geometry)"
   ]
  },
  {
   "cell_type": "code",
   "execution_count": null,
   "id": "58c8b7e1-7c30-4b86-affa-4528beb8bb60",
   "metadata": {},
   "outputs": [],
   "source": [
    "# Create a quick plot of our data\n",
    "fig, ax = plt.subplots(facecolor='black', \n",
    "                       subplot_kw={'projection': ccrs.Robinson()}, \n",
    "                       figsize=(20,20))\n",
    "ax.patch.set_facecolor('black')\n",
    "\n",
    "airport_geodata.plot(ax=ax, transform=ccrs.PlateCarree(), \n",
    "                     markersize=4, alpha=1, color='crimson', \n",
    "                     edgecolors='none')\n",
    "plt.setp(ax.spines.values(), color='black')\n",
    "plt.setp([ax.get_xticklines(), ax.get_yticklines()], color='black')\n",
    "ax.set_ylim(-7000000, 9000000)\n",
    "plt.show()"
   ]
  },
  {
   "cell_type": "code",
   "execution_count": null,
   "id": "5737025b-3ef2-4a18-a255-19ef46573b68",
   "metadata": {},
   "outputs": [],
   "source": [
    "routes = pd.read_csv(DATA_DIRECTORY / \"routes.dat\", \n",
    "                     delimiter=',', \n",
    "                     names=['airline', 'id', 'source_airport', \n",
    "                            'source_airport_id', 'destination_airport', \n",
    "                            'destination_airport_id', 'codeshare',\n",
    "                            'stops', 'equitment'])\n",
    "routes.head()"
   ]
  },
  {
   "cell_type": "code",
   "execution_count": null,
   "id": "5e07d8e7-7657-4386-bce1-a37041014d9d",
   "metadata": {},
   "outputs": [],
   "source": [
    "# Select relevant columns for source airports and create a new DataFrame\n",
    "source_airports = airports[['name', 'iata', 'icao', 'lat', 'long']]\n",
    "\n",
    "# Copy the source airports DataFrame to create a separate DataFrame for destination airports\n",
    "destination_airports = source_airports.copy()\n",
    "\n",
    "# Rename columns of the source airports DataFrame to indicate they are source attributes\n",
    "source_airports.columns = [str(col) + '_source' for col in source_airports.columns]\n",
    "\n",
    "# Rename columns of the destination airports DataFrame to indicate they are destination attributes\n",
    "destination_airports.columns = [str(col) + '_destination' for col in destination_airports.columns]\n"
   ]
  },
  {
   "cell_type": "code",
   "execution_count": null,
   "id": "d2a02657-7d09-44e3-bb9d-fb64aeab495e",
   "metadata": {},
   "outputs": [],
   "source": [
    "# Filter the routes DataFrame to include only source and destination airport identifiers\n",
    "routes = routes[['source_airport', 'destination_airport']]\n",
    "\n",
    "# Merge the filtered routes DataFrame with source_airports on their IATA codes to add source airport details\n",
    "routes = pd.merge(routes, \n",
    "                  source_airports, \n",
    "                  left_on='source_airport',  # Column in routes DataFrame to match\n",
    "                  right_on='iata_source')    # Corresponding column in source_airports DataFrame\n",
    "\n",
    "# Merge the updated routes DataFrame with destination_airports on their IATA codes to add destination airport details\n",
    "routes = pd.merge(routes, \n",
    "                  destination_airports, \n",
    "                  left_on='destination_airport',  # Column in routes DataFrame to match\n",
    "                  right_on='iata_destination')    # Corresponding column in destination_airports DataFrame\n",
    "\n",
    "# Check the columns in our joined data\n",
    "routes.columns"
   ]
  },
  {
   "cell_type": "markdown",
   "id": "f9f9d8bd-4b36-4310-a2a1-7c5a79bef513",
   "metadata": {},
   "source": [
    "### Creating line objects to represent flight routes\n",
    "Now that we did some data preparation, we use Shapely library to visualize flight routes between airports on a map. You ca refresh your memory of Shapely library from [AutoGIS course page](https://autogis-site.readthedocs.io/en/latest/lessons/lesson-1/geometry-objects.html) Here's a step-by-step breakdown of what each part of the code is doing:\n",
    "\n",
    "1. **Import LineString from Shapely**: `LineString` is a geometric object consisting of multiple points to form a line. We import it to represent the flight routes geometrically.\n",
    "\n",
    "2. **Create LineString Objects for Each Route**:\n",
    "    - We iterate over each row in the `routes` DataFrame, which contains information about each flight route, including the source and destination airports' coordinates (`long_source`, `lat_source`, `long_destination`, `lat_destination`).\n",
    "    - For every route, we create a `LineString` object that connects the source airport to the destination airport using their longitude and latitude coordinates. This effectively draws a line between the two points on the map.\n",
    "\n",
    "3. **Create a GeoDataFrame for Routes**:\n",
    "    - With the list of `LineString` objects (each representing a flight route), we create a new GeoDataFrame called `routes_geodata`. This GeoDataFrame contains all the original route information, plus a new `geometry` column where each entry is a `LineString` object corresponding to that route.\n",
    "    - We also specify the coordinate reference system (CRS), which is 'EPSG:4326'. This CRS corresponds to the widely used WGS 84 latitude-longitude coordinate system.\n",
    "\n",
    "By transforming our route data into a GeoDataFrame with line geometries, we can easily visualize these flight paths on a map, providing a clear and informative visual representation of air travel connections.\n"
   ]
  },
  {
   "cell_type": "code",
   "execution_count": null,
   "id": "643935ca-42ed-4122-9503-cca2e70cb663",
   "metadata": {},
   "outputs": [],
   "source": [
    "from shapely.geometry import LineString\n",
    "\n",
    "routes_geometry = [LineString([[routes.iloc[i]['long_source'], \n",
    "                                routes.iloc[i]['lat_source']], \n",
    "                               [routes.iloc[i]['long_destination'], \n",
    "                                routes.iloc[i]['lat_destination']]]) \n",
    "                   for i in range(routes.shape[0])]\n",
    "\n",
    "routes_geodata = gpd.GeoDataFrame(routes, \n",
    "                                  geometry=routes_geometry, \n",
    "                                  crs='EPSG:4326')\n",
    "routes.head()"
   ]
  },
  {
   "cell_type": "markdown",
   "id": "9adcc29a-e568-4730-ab71-35bf0c93df76",
   "metadata": {},
   "source": [
    "Now let's make a quick plot to see what we have:"
   ]
  },
  {
   "cell_type": "code",
   "execution_count": null,
   "id": "3befdd28-cde9-4448-8dbb-75293623f344",
   "metadata": {},
   "outputs": [],
   "source": [
    "fig, ax = plt.subplots(figsize=(20,20))\n",
    "ax.patch.set_facecolor('black')\n",
    "\n",
    "routes_geodata.plot(ax=ax, color='white', linewidth=0.1)\n",
    "\n",
    "plt.show()"
   ]
  },
  {
   "cell_type": "code",
   "execution_count": null,
   "id": "43dafd03-1fea-4312-b9e5-2ec0d7a31050",
   "metadata": {},
   "outputs": [],
   "source": [
    "# Create a figure and axis with a Robinson projection\n",
    "fig, ax = plt.subplots(subplot_kw={'projection': ccrs.Robinson()}, \n",
    "                       figsize=(20,20))  # Set the size of the map\n",
    "\n",
    "ax.patch.set_facecolor('black')  # Set the background color of the map to black\n",
    "\n",
    "# Plot the routes on the map\n",
    "routes_geodata.plot(ax=ax, \n",
    "                    transform=ccrs.Geodetic(),  # Ensure the data uses a geodetic (lat/lon) projection\n",
    "                    color='white',  # Set the color of the routes to white\n",
    "                    linewidth=0.1,  # Set the width of the lines representing the routes\n",
    "                    alpha=0.1)  # Set the transparency of the routes\n",
    "\n",
    "# Change the color of the map's border to black\n",
    "plt.setp(ax.spines.values(), color='black')\n",
    "\n",
    "# Change the color of the tick lines on the map to black\n",
    "plt.setp([ax.get_xticklines(), ax.get_yticklines()], color='black')\n",
    "\n",
    "# Set the y-axis limits to adjust the visible area of the map projection\n",
    "ax.set_ylim(-7000000, 8800000)\n",
    "\n",
    "# Display the plot\n",
    "plt.show()\n"
   ]
  },
  {
   "cell_type": "markdown",
   "id": "8493d8d8-d8e7-40cf-863c-3d608676e505",
   "metadata": {},
   "source": [
    "Let's now add the aiport locations to the map. At the same time, we would like to show the number of flights per each airport. Why not do both at the same time using a **proportional symbol map**? For doing so, we need to do a bit more data preparation. "
   ]
  },
  {
   "cell_type": "code",
   "execution_count": null,
   "id": "bdf9a90e-4559-4f10-9538-185a07484798",
   "metadata": {},
   "outputs": [],
   "source": [
    "# Count the number of occurrences of each airport as a source airport\n",
    "airport_source_count = routes.source_airport.value_counts()\n",
    "\n",
    "# Count the number of occurrences of each airport as a destination airport\n",
    "airport_destination_count = routes.destination_airport.value_counts()\n",
    "\n",
    "# Display the counts of source airports\n",
    "airport_source_count.head()"
   ]
  },
  {
   "cell_type": "code",
   "execution_count": null,
   "id": "cfe8e768-2701-47a3-a8ae-1ab69670681f",
   "metadata": {},
   "outputs": [],
   "source": [
    "# Convert the series of source airport counts into a DataFrame with two columns: 'airport' and 'source_airport_count'\n",
    "airport_source_count = pd.DataFrame({'airport': airport_source_count.index, \n",
    "                                     'source_airport_count': airport_source_count.values})\n",
    "\n",
    "# Convert the series of destination airport counts into a DataFrame with two columns: 'airport' and 'destination_airport_count'\n",
    "airport_destination_count = pd.DataFrame({'airport': airport_destination_count.index, \n",
    "                                          'destination_airport_count': airport_destination_count.values})\n",
    "\n",
    "# Merge the two DataFrames on the 'airport' column to combine source and destination counts for each airport\n",
    "airport_counts = pd.merge(airport_source_count, \n",
    "                          airport_destination_count, \n",
    "                          on=\"airport\")"
   ]
  },
  {
   "cell_type": "code",
   "execution_count": null,
   "id": "74e73246-7030-4ab4-a601-df60978b900e",
   "metadata": {},
   "outputs": [],
   "source": [
    "# Calculate the total count (sum of source and destination counts) for each airport\n",
    "airport_counts['count'] = airport_counts['source_airport_count'] + airport_counts['destination_airport_count']\n",
    "\n",
    "# Merge the combined counts DataFrame with the airports DataFrame to add additional airport information\n",
    "airport_counts = pd.merge(airport_counts, \n",
    "                          airports, \n",
    "                          left_on=\"airport\",  # Key in airport_counts DataFrame\n",
    "                          right_on=\"iata\")    # Corresponding key in airports DataFrame\n",
    "\n",
    "# Create Point geometries from airport longitude and latitude for geospatial visualization\n",
    "geometry = [Point(xy) for xy in zip(airport_counts.long, airport_counts.lat)]\n",
    "\n",
    "# Convert the airport_counts DataFrame into a GeoDataFrame\n",
    "airport_counts = gpd.GeoDataFrame(airport_counts, \n",
    "                                  geometry=geometry,  \n",
    "                                  crs=\"EPSG:4326\")    \n",
    "\n",
    "# Calculate marker size based on the airport 'count' to visualize the airport traffic volume\n",
    "airport_counts['markersize'] = airport_counts['count'] / 10  # Scale down the count for a suitable marker size\n"
   ]
  },
  {
   "cell_type": "code",
   "execution_count": null,
   "id": "43c484c0-645b-4210-a010-b1c7ebab9e22",
   "metadata": {},
   "outputs": [],
   "source": [
    "# Create a figure and axis with a Robinson projection, setting the size of the map\n",
    "fig, ax = plt.subplots(subplot_kw={'projection': ccrs.Robinson()}, \n",
    "                       figsize=(20,20))\n",
    "\n",
    "# Set the background color of the map to black\n",
    "ax.patch.set_facecolor('black')\n",
    "\n",
    "# Plot the routes on the map with specific visual attributes\n",
    "routes_geodata.plot(ax=ax, \n",
    "                    transform=ccrs.Geodetic(),  # Ensure the data uses the Geodetic (latitude/longitude) projection\n",
    "                    color='white',  # Set the routes color to white for contrast\n",
    "                    linewidth=0.1,  # Specify the line width for the routes\n",
    "                    alpha=0.1)  # Set the transparency level of the routes\n",
    "\n",
    "# Plot the airports on the map, using the 'markersize' to represent traffic volume\n",
    "airport_counts.plot(ax=ax, \n",
    "                    transform=ccrs.PlateCarree(),  # Use PlateCarree projection for airport points\n",
    "                    markersize=airport_counts['markersize'],  # Set marker size based on airport traffic volume\n",
    "                    alpha=0.8,  # Set the transparency level of the airport markers\n",
    "                    column=airport_counts['long'],  # Use the longitude for coloring (not typically meaningful, could be adjusted)\n",
    "                    cmap='jet',  # Color map for the airports\n",
    "                    edgecolors='none')  # No edge colors for the markers\n",
    "\n",
    "# Set the color of the map's border to a dark gray for aesthetic purposes\n",
    "plt.setp(ax.spines.values(), color='#090909')\n",
    "\n",
    "# Set the color of the tick lines on the map to dark gray for consistency\n",
    "plt.setp([ax.get_xticklines(), ax.get_yticklines()], color='#090909')\n",
    "\n",
    "# Adjust the y-axis limits to better fit the projection's display area\n",
    "ax.set_ylim(-7000000, 8800000)\n",
    "\n",
    "# Display the plot\n",
    "plt.show()\n"
   ]
  },
  {
   "cell_type": "markdown",
   "id": "1f421ea2-aeb1-468c-b341-aa1ea55e0227",
   "metadata": {},
   "source": [
    "<div style=\"background-color: #f9f9f9; border-left: 6px solid #2196F3; margin: 20px 0; padding: 15px 20px;\">\n",
    "    <h4>Why Use Different Projections for Routes and Airports?</h4>\n",
    "    <p>Using two different projections for routes (<code>ccrs.Geodetic()</code>) and airports (<code>ccrs.PlateCarree()</code>) in the code primarily relates to the way Cartopy handles the transformation of data when plotting on a map projection, such as <code>ccrs.Robinson()</code>.</p>\n",
    "    <ol>\n",
    "        <li><strong>Routes (Lines) with <code>ccrs.Geodetic()</code>:</strong>\n",
    "            <ul>\n",
    "                <li>When plotting lines that span significant portions of the globe (like flight routes), using the <code>ccrs.Geodetic()</code> transform ensures that the lines are correctly drawn as the shortest paths between two points on the globe's surface, taking into account the Earth's curvature. This is especially important for long-distance routes, which might not appear as straight lines on certain map projections due to the spherical nature of the Earth.</li>\n",
    "                <li>The <code>ccrs.Geodetic()</code> transform tells Cartopy to interpret the line endpoints in geographical coordinates (latitude and longitude) and to plot the \"great circle\" path between them, which represents the shortest distance between those points on the Earth's surface.</li>\n",
    "            </ul>\n",
    "        </li>\n",
    "        <li><strong>Airports (Points) with <code>ccrs.PlateCarree()</code>:</strong>\n",
    "            <ul>\n",
    "                <li>The <code>ccrs.PlateCarree()</code> projection is essentially a simple map projection where the latitude and longitude are directly mapped to a grid. This makes it straightforward for plotting point data that is already given in latitude and longitude, as is typically the case with airport locations.</li>\n",
    "                <li>Using <code>ccrs.PlateCarree()</code> for points does not have the same implications as for lines, since points are just single locations on the map. The transformation is used to ensure that these points are accurately placed according to their latitude and longitude on the projected map.</li>\n",
    "            </ul>\n",
    "        </li>\n",
    "    </ol>\n",
    "    <p>In essence, the choice of <code>ccrs.Geodetic()</code> for routes and <code>ccrs.PlateCarree()</code> for airports optimizes the accuracy and visual correctness of the plotted data. It ensures that routes are drawn as realistically as possible, accounting for the Earth's curvature, while airports are accurately positioned according to their geographic coordinates. This approach leverages the strengths of different transformations for the specific types of geospatial data being visualized.</p>\n",
    "</div>\n"
   ]
  },
  {
   "cell_type": "markdown",
   "id": "1ce0c30c-2a70-49a0-b431-8a974ccb528e",
   "metadata": {},
   "source": [
    "Let's still improve the map: \n",
    "- We will add a **legend** to the map, enhancing interpretability by attempting to distinguish between routes and airports visually.\n",
    "- Add a **title** to show to the viewer what the map is about. \n",
    "- We apply the **colormap** to the airport markers based on their longitude, adding a visual dimension to the data. (this could have also been used to still add one more variable to the map)\n"
   ]
  },
  {
   "cell_type": "code",
   "execution_count": null,
   "id": "8c9036ae-5c6c-4fb6-a239-c038d5198387",
   "metadata": {},
   "outputs": [],
   "source": [
    "import matplotlib.pyplot as plt\n",
    "import cartopy.crs as ccrs\n",
    "from matplotlib.lines import Line2D\n",
    "from matplotlib.patches import Patch\n",
    "\n",
    "# Initialize a figure with a Robinson projection and set the figure size and background color\n",
    "fig, ax = plt.subplots(subplot_kw={'projection': ccrs.Robinson()}, figsize=(20, 20))\n",
    "ax.patch.set_facecolor('black')\n",
    "\n",
    "# Plot the flight routes with specified visual attributes for a subtle background effect\n",
    "routes_geodata.plot(ax=ax, transform=ccrs.Geodetic(), color='white', linewidth=0.1, alpha=0.1)\n",
    "\n",
    "# Plot the airport counts with adjusted marker size and colormap\n",
    "scatter = airport_counts.plot(ax=ax, transform=ccrs.PlateCarree(), markersize=airport_counts['markersize'],\n",
    "                              alpha=0.8, column=airport_counts['long'], cmap='coolwarm', edgecolors='none')\n",
    "\n",
    "# Customize the appearance of the plot's borders and tick lines to match the dark theme\n",
    "plt.setp(ax.spines.values(), color='#090909')\n",
    "plt.setp([ax.get_xticklines(), ax.get_yticklines()], color='#090909')\n",
    "\n",
    "# Adjust the vertical (y-axis) limits of the map to focus on the main areas of interest\n",
    "ax.set_ylim(-7000000, 8800000)\n",
    "\n",
    "# Manually create legend entries\n",
    "legend_elements = [\n",
    "    Line2D([0], [0], color='white', lw=2, alpha=0.6, label='Routes'), \n",
    "    Line2D([0], [0], marker='o', color='w', markersize=10, markerfacecolor='grey', alpha=0.8, label='Airports', linestyle='None') \n",
    "]\n",
    "\n",
    "# Create the legend with the custom entries, specifying location and style without using 'title_color'\n",
    "legend = ax.legend(handles=legend_elements, loc='upper left', facecolor='black', edgecolor='white', fontsize='large', title='Legend', title_fontsize='large')\n",
    "\n",
    "# Set the legend title color after the legend has been created\n",
    "legend.get_title().set_color(\"white\")\n",
    "\n",
    "# Set individual text colors for the legend items\n",
    "legend.get_texts()[0].set_color('grey')  # Set color for the \"Routes\" legend item\n",
    "legend.get_texts()[1].set_color('grey')  # Set color for the \"Airports\" legend item\n",
    "\n",
    "# Add a title to the map\n",
    "ax.set_title(\"Global Flight Routes and Airports\", fontsize='xx-large', color='black', loc='center')\n",
    "\n",
    "# save the map if you want\n",
    "plt.savefig('Global_Flight_Routes.png', bbox_inches='tight', facecolor='white')\n",
    "\n",
    "# Proceed to display the plot as before\n",
    "plt.show()\n"
   ]
  },
  {
   "cell_type": "code",
   "execution_count": null,
   "id": "78992a69-2589-452a-baca-abdfe4200849",
   "metadata": {},
   "outputs": [],
   "source": []
  }
 ],
 "metadata": {
  "kernelspec": {
   "display_name": "Python 3 (ipykernel)",
   "language": "python",
   "name": "python3"
  },
  "language_info": {
   "codemirror_mode": {
    "name": "ipython",
    "version": 3
   },
   "file_extension": ".py",
   "mimetype": "text/x-python",
   "name": "python",
   "nbconvert_exporter": "python",
   "pygments_lexer": "ipython3",
   "version": "3.11.7"
  }
 },
 "nbformat": 4,
 "nbformat_minor": 5
}
